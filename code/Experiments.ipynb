{
 "cells": [
  {
   "cell_type": "code",
   "execution_count": 1,
   "metadata": {},
   "outputs": [],
   "source": [
    "import pandas as pd\n",
    "import numpy as np\n",
    "\n",
    "from sklearn.model_selection import train_test_split, cross_val_score, cross_validate\n",
    "from sklearn.feature_extraction.text import CountVectorizer, TfidfVectorizer\n",
    "from sklearn.metrics import accuracy_score, precision_score, recall_score, auc, roc_curve, confusion_matrix, plot_confusion_matrix, f1_score\n",
    "from sklearn.pipeline import Pipeline, FeatureUnion\n",
    "from sklearn.preprocessing import LabelEncoder, Normalizer\n",
    "\n",
    "from sklearn.naive_bayes import MultinomialNB, ComplementNB, GaussianNB\n",
    "from sklearn.linear_model import LogisticRegression\n",
    "from sklearn.svm import SVC\n",
    "\n",
    "from statistics import mean\n",
    "from collections import Counter\n",
    "\n",
    "import matplotlib.pyplot as plt\n",
    "import seaborn as sn\n",
    "\n",
    "from nltk.stem import WordNetLemmatizer\n",
    "from nltk import word_tokenize, pos_tag, ne_chunk"
   ]
  },
  {
   "cell_type": "code",
   "execution_count": 2,
   "metadata": {},
   "outputs": [],
   "source": [
    "DATA_DIR = '../data/'\n",
    "TOOLS_DIR = '../tools/'\n",
    "FILENAME = 'AllDiscussionDataCODED_USE_THIS_14Feb2020_MH.xls'\n",
    "LEMMASFILETRAIN = DATA_DIR + 'train.output'\n",
    "LEMMASFILETEST = DATA_DIR + 'test.output'\n",
    "\n",
    "data = pd.read_excel( io = DATA_DIR + FILENAME ).dropna('index', 'all').dropna('columns', 'all')\n",
    "# data = data.reset_index()\n",
    "with open( DATA_DIR + 'stopwords-sl.txt', mode='r', encoding='utf-8') as f:\n",
    "    stopwordsSLO = f.read().split( '\\n' )"
   ]
  },
  {
   "cell_type": "code",
   "execution_count": 3,
   "metadata": {},
   "outputs": [],
   "source": [
    "def parseLemmas( filename , additional=False):\n",
    "    lemmas = []\n",
    "    with open( filename, mode = 'r', encoding ='utf-8' ) as f:\n",
    "        for l in f.readlines():\n",
    "            line = l.strip()\n",
    "            if line.startswith( '#' ):\n",
    "                if line.startswith( '# newpar id =' ):\n",
    "                    lemmas.append( [ ] )\n",
    "                else:\n",
    "                    continue\n",
    "            tmp = line.split( '\\t' )\n",
    "            if len( tmp ) > 1:\n",
    "                result = tmp[2].lower()\n",
    "                if not additional:\n",
    "                    lemmas[ -1 ].append(result)\n",
    "                else:\n",
    "                    lemmas[-1].append(''.join(e for e in result if e.isalnum()))\n",
    "                    \n",
    "#     return pd.Series( lemmas, indexes )\n",
    "    return lemmas\n",
    "\n",
    "def writeMessages( msgs, filename ):\n",
    "    with open( DATA_DIR + filename + '.input', 'w', encoding='utf-8' ) as f:\n",
    "        for line in msgs:\n",
    "            f.write( str( line ) + '\\n' )\n",
    "\n",
    "def prepareTokens( filename ):\n",
    "    command = 'cat {0}{3}.input | python {1}tokeniser.py sl -n -c -d > {2}'.format( DATA_DIR, TOOLS_DIR + 'reldi-tokeniser-master/', DATA_DIR + filename + '.conllu', filename )\n",
    "    print( 'Running command ', command )\n",
    "    !$command\n",
    "    \n",
    "def prepareLemmas( filename ):\n",
    "    command = 'cd {0} python -m stanfordnlp.models.lemmatizer --model_dir models/lemma/ --model_file ssj500k+Sloleks --eval_file {1} --output_file {2} --mode predict; cd --;'.format( '../tools/classla-stanfordnlp-master;', '../../data/' + filename + '.conllu', '../../data/' + filename + '.output' )\n",
    "    !$command\n",
    "    \n",
    "def lemmatize( messages, filename ): # filename without endings\n",
    "#     filename = 'train' if train else 'test'\n",
    "    \n",
    "    writeMessages( messages, filename )\n",
    "    prepareTokens( filename )\n",
    "    prepareLemmas( filename )\n",
    "    lemmas = parseLemmas( DATA_DIR + filename + '.output' )\n",
    "    return lemmas"
   ]
  },
  {
   "cell_type": "code",
   "execution_count": 4,
   "metadata": {},
   "outputs": [],
   "source": [
    "class LemmaTokenizer( object ):\n",
    "    def __init__( self ):\n",
    "        self.wnl = WordNetLemmatizer()\n",
    "        \n",
    "    def __call__( self, articles ):\n",
    "#         print( articles )\n",
    "        return articles\n",
    "#         return [ self.wnl.lemmatize( t ) for t in word_tokenize( articles ) if self.wnl.lemmatize( t ) not in stopwordsSLO ]"
   ]
  },
  {
   "cell_type": "code",
   "execution_count": 5,
   "metadata": {},
   "outputs": [],
   "source": [
    "data.drop( data[ pd.isna( data[ 'Message' ] ) == True ].index, inplace = True ) # remove rows with empty message\n",
    "data.drop( data[ pd.isna( data[ 'Book relevance' ] ) == True ].index, inplace = True ) # remove rows with unknown book relevance\n",
    "\n",
    "# some additional preprocessing"
   ]
  },
  {
   "cell_type": "code",
   "execution_count": 6,
   "metadata": {},
   "outputs": [
    {
     "name": "stdout",
     "output_type": "stream",
     "text": [
      "16\n",
      "52\n",
      "31\n"
     ]
    }
   ],
   "source": [
    "butalci = []\n",
    "with open( DATA_DIR + 'butalski.txt', mode = 'r', encoding = 'utf-8' ) as f:\n",
    "    for line in f.readlines():\n",
    "        butalci.append( line.strip() )\n",
    "        \n",
    "vevericek = []\n",
    "with open( DATA_DIR + 'vevericek.txt', mode = 'r', encoding = 'utf-8' ) as f:\n",
    "    for line in f.readlines():\n",
    "        vevericek.append( line.strip() )\n",
    "        \n",
    "premrazeno = []\n",
    "with open( DATA_DIR + 'premrazeno.txt', mode = 'r', encoding = 'utf-8' ) as f:\n",
    "    for line in f.readlines():\n",
    "        premrazeno.append( line.strip() )\n",
    "\n",
    "lemmasButalci = parseLemmas( DATA_DIR + 'butalci.output' , True) # lemmatize( butalci, 'butalci' )\n",
    "print( len( lemmasButalci ) )\n",
    "\n",
    "lemmasVevericek = parseLemmas( DATA_DIR + 'vevericek.output' , True ) # lemmatize( vevericek, 'vevericek' )\n",
    "print( len( lemmasVevericek ) )\n",
    "\n",
    "lemmasPremrazeno = parseLemmas( DATA_DIR + 'premrazeno.output', True ) # lemmatize( premrazeno, 'premrazeno' )\n",
    "print( len( lemmasPremrazeno ) )"
   ]
  },
  {
   "cell_type": "code",
   "execution_count": 7,
   "metadata": {},
   "outputs": [],
   "source": [
    "# print( len( data[ pd.isna( data[ 'Message' ] ) == True ] ) )\n",
    "# print( len( data[ pd.isna( data[ 'Book relevance' ] ) == True ] ) )\n",
    "X_trainO, X_testO, y_trainO, y_testO = train_test_split( data[ 'Message' ], data[ 'Book relevance' ], random_state = 42 )\n",
    "# writeMessages( X_trainO )\n",
    "# prepareTokens()\n",
    "# prepareLemmas()\n",
    "\n",
    "lemmasTrain = parseLemmas( LEMMASFILETRAIN )\n",
    "lemmasTest = parseLemmas( LEMMASFILETEST )\n",
    "# lemmas = lemmatize( X_trainO, 'train' )\n",
    "# lemmas = lemmatize( X_testO, 'test' )"
   ]
  },
  {
   "cell_type": "code",
   "execution_count": 8,
   "metadata": {},
   "outputs": [
    {
     "name": "stdout",
     "output_type": "stream",
     "text": [
      "Book relevant texts in training set: 1047\n",
      "Book non-relevant texts in training set: 1606\n",
      "Baseline classifier accuracy on training set: 0.605352431209951\n",
      "Baseline classifier accuracy on test set: 0.6192090395480226\n"
     ]
    }
   ],
   "source": [
    "# x_relevant = len( X_trainO[ ( data[ 'Book relevance' ] == 'Yes' ) ] )\n",
    "# x_nonrelevant = len( X_trainO[ ( data[ 'Book relevance' ] == 'No' ) ] )\n",
    "# testNonRelevant = len( X_testO[ ( data[ 'Book relevance' ] == 'No' ) ] )\n",
    "\n",
    "x_relevant = len( [ x for x in y_trainO if x == 'Yes' ] )\n",
    "x_nonrelevant = len( [ x for x in y_trainO if x == 'No' ] )\n",
    "testNonRelevant = len( [ x for x in y_testO if x == 'No' ] )\n",
    "\n",
    "distribution = Counter( y_trainO )\n",
    "labels, values = zip( *distribution.items() )\n",
    "\n",
    "indexes = np.arange( len( labels ) )\n",
    "width = 0.3\n",
    "\n",
    "plt.subplot( 1, 2, 1 )\n",
    "plt.bar( indexes, values, width, color = 'red', alpha = 0.5 )\n",
    "plt.xticks( indexes + width * 0.01, labels )\n",
    "\n",
    "\n",
    "distribution = Counter( y_testO )\n",
    "labels, values = zip( *distribution.items() )\n",
    "\n",
    "indexes = np.arange( len( labels ) )\n",
    "width = 0.3\n",
    "\n",
    "plt.subplot( 1, 2, 2 )\n",
    "plt.bar( indexes, values, width, color = 'blue', alpha = 0.5 )\n",
    "plt.xticks( indexes + width * 0.01, labels )\n",
    "# plt.title( 'Distribution of examples according to relevance' )\n",
    "# plt.show()\n",
    "# plt.savefig( 'distribution.pdf' )\n",
    "plt.close()\n",
    "\n",
    "\n",
    "print( 'Book relevant texts in training set: {0}'.format( x_relevant ) )\n",
    "print( 'Book non-relevant texts in training set: {0}'.format( x_nonrelevant ) )\n",
    "print( 'Baseline classifier accuracy on training set: {0}'.format( x_nonrelevant / len( X_trainO ) ) )\n",
    "print( 'Baseline classifier accuracy on test set: {0}'.format( testNonRelevant / len( X_testO ) ) )"
   ]
  },
  {
   "cell_type": "code",
   "execution_count": 9,
   "metadata": {},
   "outputs": [],
   "source": [
    "from sklearn.base import BaseEstimator\n",
    "from sklearn.preprocessing import StandardScaler\n",
    "import numpy as np\n",
    "import random\n",
    "\n",
    "class MeasureFeatures(BaseEstimator):\n",
    "\n",
    "    def __init__(self, type):\n",
    "        self.problem_type = type\n",
    "        pass\n",
    "\n",
    "    def longest_repeat(self, s):\n",
    "        maximum = count = 0\n",
    "        current = ''\n",
    "        for c in s:\n",
    "            if c == current:\n",
    "                count += 1\n",
    "            else:\n",
    "                count = 1\n",
    "                current = c\n",
    "            maximum = max(count,maximum)\n",
    "        return maximum\n",
    "    \n",
    "    def get_feature_names(self):\n",
    "        return np.array(['longest_word', #'contains_question_mark', 'contains_exclamation_mark', \n",
    "                         'longest_repeatance'])\n",
    "\n",
    "    def fit(self, documents, y=None):\n",
    "        return self\n",
    "\n",
    "    def transform(self, x_dataset):\n",
    "        X = None\n",
    "        if self.problem_type == 'book_relevance':\n",
    "            print(\"BOOK RELEVANCE...\")\n",
    "            X_length = list()\n",
    "            X_longest_repeatance = list()\n",
    "            X_discussion = list()\n",
    "            discussion = ['lahko']\n",
    "\n",
    "            for words in x_dataset:\n",
    "                #print(words)\n",
    "\n",
    "                X_length.append(1 if max(len(w) for w in words) > 12 else 0)\n",
    "                X_longest_repeatance.append(1 if max(self.longest_repeat(w) for w in words) > 4 else 0)\n",
    "                discussion_count = len([s for s in words if any(xs in s for xs in discussion)])\n",
    "                X_discussion.append(1 if discussion_count > 0 else 0)\n",
    "\n",
    "\n",
    "            X = np.array([X_length, X_longest_repeatance, X_discussion]).T\n",
    "            \n",
    "        elif self.problem_type == 'type':\n",
    "            print(\"TYPE...\")\n",
    "            questions = ['kdo', 'a', 'ali', 'kje', 'kdaj', 'kako', 'kam', 'zakaj', 'čemu', 'cemu', 'kaj', 'komu', 'kdo', '?']\n",
    "            \n",
    "            X_questions= list()\n",
    "            #X_be = list()\n",
    "\n",
    "            for words in x_dataset:\n",
    "                \n",
    "                question_count = len([s.lower() for s in words if any(xs in s for xs in questions)])\n",
    "                #Better if 0 or 1\n",
    "                X_questions.append(1 if question_count > 0 else 0)            \n",
    "\n",
    "            X = np.array([ X_questions]).T\n",
    "        elif self.problem_type == 'category_broad':\n",
    "            print(\"Category Broad...\")\n",
    "        \n",
    "            #IDENTITY\n",
    "            identity = ['kdo', 'jaz', 'ime']\n",
    "            X_identity = list()\n",
    "        \n",
    "            #CHATTING\n",
    "            X_longest_repeatance = list()\n",
    "            X_length = list()\n",
    "\n",
    "            #DISCUSSION\n",
    "            discussion = ['lahko'  'bi']\n",
    "            X_discussion = list()\n",
    "            \n",
    "            #MODERATING\n",
    "            #X_moderating = list()\n",
    "\n",
    "            for words in x_dataset:\n",
    "                #print(words)\n",
    "                \n",
    "                identity_count = len([s for s in words if any(xs in s for xs in identity)])\n",
    "                #Better if 0 or 1\n",
    "                X_identity.append(1 if identity_count > 0 else 0)           \n",
    "                \n",
    "                X_length.append(1 if max(len(w) for w in words) > 12 else 0)\n",
    "                X_longest_repeatance.append(1 if max(self.longest_repeat(w) for w in words) > 4 else 0)\n",
    "                \n",
    "                #X_moderating.append(1 if max(w.find(\",\") for w in words) != -1 else 0)\n",
    "                \n",
    "                discussion_count = len([s for s in words if any(xs in s for xs in discussion)])\n",
    "                X_discussion.append(1 if discussion_count > 0 else 0)\n",
    "                \n",
    "            X = np.array([X_identity, X_longest_repeatance, X_length, \n",
    "                          X_discussion]).T\n",
    "            \n",
    "\n",
    "        if not hasattr(self, 'scalar'):\n",
    "            self.scalar = StandardScaler().fit(X)\n",
    "        return self.scalar.transform(X)"
   ]
  },
  {
   "cell_type": "code",
   "execution_count": null,
   "metadata": {},
   "outputs": [],
   "source": []
  },
  {
   "cell_type": "code",
   "execution_count": 10,
   "metadata": {},
   "outputs": [
    {
     "name": "stdout",
     "output_type": "stream",
     "text": [
      "BOOK RELEVANCE...\n",
      "BOOK RELEVANCE...\n"
     ]
    }
   ],
   "source": [
    "cv = FeatureUnion([\n",
    "    ('tfidf', TfidfVectorizer(tokenizer = lambda x : x, preprocessor = lambda x : x, analyzer = 'word', sublinear_tf=True, max_df=0.5)),\n",
    "    ('feat', MeasureFeatures('book_relevance'))\n",
    "                  ])\n",
    "\n",
    "\n",
    "X_train = np.array( [ value for value in X_trainO ], dtype = str )\n",
    "y_train = np.array( [ value for value in y_trainO ], dtype = str )\n",
    "\n",
    "\n",
    "def append_lemmas(lemmasExtended, y, lemmasToAdd):\n",
    "    sub_array = []\n",
    "    for array in lemmasToAdd:\n",
    "        #print(str(array))\n",
    "        lemmasExtended.append(array)\n",
    "        sub_array.append('Yes')\n",
    "    y = np.append(y_train, np.array(sub_array))\n",
    "    return lemmasExtended, y\n",
    "    \n",
    "lemmasTrainExtended = list(lemmasTrain)\n",
    "lemmasTrainExtended, y_train = append_lemmas(lemmasTrainExtended, y_train, lemmasButalci)\n",
    "lemmasTrainExtended, y_train = append_lemmas(lemmasTrainExtended, y_train, lemmasVevericek)\n",
    "lemmasTrainExtended, y_train = append_lemmas(lemmasTrainExtended, y_train, lemmasPremrazeno)\n",
    "\n",
    "X_test = np.array( [ value for value in X_testO ], dtype = str )\n",
    "y_test = np.array( [ value for value in y_testO ], dtype = str )\n",
    "\n",
    "# X_train_cv = cv.fit_transform( X_train.values.astype( 'U' ) )\n",
    "# X_test_cv = cv.transform( X_test.values.astype( str ) )\n",
    "\n",
    "\n",
    "# cv = CountVectorizer( tokenizer = lambda x : x, preprocessor = lambda x : x, stop_words = stopwordsSLO )\n",
    "\n",
    "#THIS ONE WAS BEFORE\n",
    "# cv = CountVectorizer( tokenizer = lambda x : x, preprocessor = lambda x : x, analyzer = 'word', ngram_range = ( 1, 3 ) )\n",
    "\n",
    "X_train_cv = cv.fit_transform( lemmasTrainExtended )\n",
    "# X_train_cv = cv.fit_transform( lemmasTrain )\n",
    "X_test_cv = cv.transform( lemmasTest )\n",
    "\n",
    "# X_train_cv = cv.fit_transform( X_train )\n",
    "# X_test_cv = cv.transform( X_test )\n",
    "\n",
    "\n",
    "# word_freq_df = pd.DataFrame( X_train_cv.toarray(), columns = cv.get_feature_names() )\n",
    "# top_words_df = pd.DataFrame( word_freq_df.sum() ).sort_values( 0, ascending = False )\n",
    "# print( top_words_df )"
   ]
  },
  {
   "cell_type": "code",
   "execution_count": 11,
   "metadata": {},
   "outputs": [
    {
     "name": "stdout",
     "output_type": "stream",
     "text": [
      "Accuracy score of Naive Bayes:  0.8090395480225989\n",
      "Precision score of Naive Bayes:  0.8\n",
      "Recall score of Naive Bayes:  0.6646884272997032\n",
      "F1 score of Naive Bayes: 0.726094003241491\n",
      "\n"
     ]
    },
    {
     "data": {
      "image/png": "[encoded data removed]",
      "text/plain": [
       "<Figure size 432x288 with 1 Axes>"
      ]
     },
     "metadata": {
      "needs_background": "light"
     },
     "output_type": "display_data"
    }
   ],
   "source": [
    "positiveLabel = 'Yes'\n",
    "\n",
    "naive_bayes = GaussianNB()\n",
    "naive_bayes.fit( X_train_cv.toarray(), y_train )\n",
    "predictions = naive_bayes.predict( X_test_cv.toarray() )\n",
    "\n",
    "print( 'Accuracy score of Naive Bayes: ', accuracy_score( y_test, predictions ) )\n",
    "print( 'Precision score of Naive Bayes: ', precision_score( y_test, predictions, pos_label = positiveLabel ) )\n",
    "print( 'Recall score of Naive Bayes: ', recall_score( y_test, predictions, pos_label = positiveLabel ) )\n",
    "print( 'F1 score of Naive Bayes:', f1_score( y_test, predictions, pos_label = positiveLabel ) )\n",
    "print()\n",
    "\n",
    "\n",
    "# cm = confusion_matrix( y_test, predictions )\n",
    "# print( cm )\n",
    "# df_cm = pd.DataFrame( cm, range( 2 ), range( 2 ) )\n",
    "# plt.figure(figsize=(10,7))\n",
    "# sn.set(font_scale=1.4) # for label size\n",
    "# sn.heatmap(df_cm, annot=True, annot_kws={\"size\": 16}) # font size\n",
    "# plt.imshow( cm )\n",
    "# plt.show()\n",
    "\n",
    "\n",
    "# probs = naive_bayes.predict_proba( X_test_cv )\n",
    "probs = naive_bayes.predict_proba( X_test_cv.toarray() )\n",
    "preds = probs[ :, 1 ]\n",
    "fpr, tpr, threshold = roc_curve( y_test, preds, pos_label = positiveLabel )\n",
    "roc_auc = auc( fpr, tpr )\n",
    "\n",
    "plt.title( 'Receiver Operating Characteristic' )\n",
    "plt.plot( fpr, tpr, 'b', label = 'AUC = %0.2f' % roc_auc )\n",
    "plt.legend( loc = 'lower right') \n",
    "plt.plot( [ 0, 1 ], [ 0, 1 ], 'r--' )\n",
    "plt.xlim( [ 0, 1 ] )\n",
    "plt.ylim( [ 0, 1 ] )\n",
    "plt.ylabel( 'True Positive Rate' )\n",
    "plt.xlabel( 'False Positive Rate' )\n",
    "plt.show()"
   ]
  },
  {
   "cell_type": "code",
   "execution_count": 12,
   "metadata": {},
   "outputs": [
    {
     "name": "stdout",
     "output_type": "stream",
     "text": [
      "Accuracy score of Logistic Regression:  0.8519774011299435\n",
      "Precision score of Logistic Regression:  0.8410596026490066\n",
      "Recall score of Logistic Regression:  0.7537091988130564\n",
      "F1 score of Logistic Regression: 0.7949921752738653\n"
     ]
    },
    {
     "data": {
      "image/png": "[encoded data removed]",
      "text/plain": [
       "<Figure size 432x288 with 1 Axes>"
      ]
     },
     "metadata": {
      "needs_background": "light"
     },
     "output_type": "display_data"
    }
   ],
   "source": [
    "lrRelevant = LogisticRegression()\n",
    "lrRelevant.fit( X_train_cv, y_train )\n",
    "predictions = lrRelevant.predict( X_test_cv )\n",
    "\n",
    "print( 'Accuracy score of Logistic Regression: ', accuracy_score( y_test, predictions ) )\n",
    "print( 'Precision score of Logistic Regression: ', precision_score( y_test, predictions, pos_label = positiveLabel ) )\n",
    "print( 'Recall score of Logistic Regression: ', recall_score( y_test, predictions, pos_label = positiveLabel ) )\n",
    "print( 'F1 score of Logistic Regression:', f1_score( y_test, predictions, pos_label = positiveLabel ) )\n",
    "\n",
    "probs = lrRelevant.predict_proba( X_test_cv )\n",
    "preds = probs[ :, 1 ]\n",
    "fpr, tpr, threshold = roc_curve( y_test, preds, pos_label = positiveLabel )\n",
    "roc_auc = auc( fpr, tpr )\n",
    "\n",
    "plt.title( 'Receiver Operating Characteristic' )\n",
    "plt.plot( fpr, tpr, 'b', label = 'AUC = %0.2f' % roc_auc )\n",
    "plt.legend( loc = 'lower right') \n",
    "plt.plot( [ 0, 1 ], [ 0, 1 ], 'r--' )\n",
    "plt.xlim( [ 0, 1 ] )\n",
    "plt.ylim( [ 0, 1 ] )\n",
    "plt.ylabel( 'True Positive Rate' )\n",
    "plt.xlabel( 'False Positive Rate' )\n",
    "plt.show()"
   ]
  },
  {
   "cell_type": "code",
   "execution_count": 13,
   "metadata": {},
   "outputs": [
    {
     "name": "stdout",
     "output_type": "stream",
     "text": [
      "Accuracy score of SVM:  0.8610169491525423\n",
      "Precision score of SVM:  0.8386075949367089\n",
      "Recall score of SVM:  0.7863501483679525\n",
      "F1 score of SVM: 0.8116385911179173\n"
     ]
    },
    {
     "data": {
      "image/png": "[encoded data removed]",
      "text/plain": [
       "<Figure size 432x288 with 1 Axes>"
      ]
     },
     "metadata": {
      "needs_background": "light"
     },
     "output_type": "display_data"
    }
   ],
   "source": [
    "svm = SVC( kernel = 'linear', C = 1, probability = True )\n",
    "svm.fit( X_train_cv, y_train )\n",
    "predictions = svm.predict( X_test_cv )\n",
    "\n",
    "print( 'Accuracy score of SVM: ', accuracy_score( y_test, predictions ) )\n",
    "print( 'Precision score of SVM: ', precision_score( y_test, predictions, pos_label = positiveLabel ) )\n",
    "print( 'Recall score of SVM: ', recall_score( y_test, predictions, pos_label = positiveLabel ) )\n",
    "print( 'F1 score of SVM:', f1_score( y_test, predictions, pos_label = positiveLabel ) )\n",
    "\n",
    "probs = svm.predict_proba( X_test_cv )\n",
    "preds = probs[ :, 1 ]\n",
    "fpr, tpr, threshold = roc_curve( y_test, preds, pos_label = positiveLabel )\n",
    "roc_auc = auc( fpr, tpr )\n",
    "\n",
    "plt.title( 'Receiver Operating Characteristic' )\n",
    "plt.plot( fpr, tpr, 'b', label = 'AUC = %0.2f' % roc_auc )\n",
    "plt.legend( loc = 'lower right') \n",
    "plt.plot( [ 0, 1 ], [ 0, 1 ], 'r--' )\n",
    "plt.xlim( [ 0, 1 ] )\n",
    "plt.ylim( [ 0, 1 ] )\n",
    "plt.ylabel( 'True Positive Rate' )\n",
    "plt.xlabel( 'False Positive Rate' )\n",
    "# plt.show()\n",
    "plt.savefig( 'rocsvm.pdf' )"
   ]
  },
  {
   "cell_type": "code",
   "execution_count": 14,
   "metadata": {},
   "outputs": [
    {
     "name": "stdout",
     "output_type": "stream",
     "text": [
      "Number of examples in category S: 31\n",
      "Number of examples in category M: 143\n",
      "Number of examples in category O: 206\n",
      "Number of examples in category I: 312\n",
      "Number of examples in category C: 1062\n",
      "Number of examples in category D: 899\n"
     ]
    }
   ],
   "source": [
    "y_train = [ data[ 'CategoryBroad'][ i ] for i in X_trainO.index ]\n",
    "y_test = [ data[ 'CategoryBroad'][ i ] for i in X_testO.index ]\n",
    "\n",
    "labels = set( [ value for value in data[ 'CategoryBroad'] ] )\n",
    "for label in labels:\n",
    "    print( 'Number of examples in category {0}: {1}'.format( label, len( X_trainO[ ( data[ 'CategoryBroad' ] == label ) ] ) ) )"
   ]
  },
  {
   "cell_type": "code",
   "execution_count": 15,
   "metadata": {},
   "outputs": [
    {
     "name": "stdout",
     "output_type": "stream",
     "text": [
      "Category Broad...\n",
      "Category Broad...\n"
     ]
    }
   ],
   "source": [
    "cv = FeatureUnion([\n",
    "    ('tfidf', TfidfVectorizer(tokenizer = lambda x : x, preprocessor = lambda x : x, analyzer = 'word', sublinear_tf=True, max_df=0.5)),\n",
    "    ('feat', MeasureFeatures('category_broad'))\n",
    "                  ])\n",
    "\n",
    "X_train_cv = cv.fit_transform( lemmasTrain )\n",
    "X_test_cv = cv.transform( lemmasTest )"
   ]
  },
  {
   "cell_type": "code",
   "execution_count": 16,
   "metadata": {},
   "outputs": [
    {
     "name": "stdout",
     "output_type": "stream",
     "text": [
      "Accuracy score of Naive Bayes:  0.503954802259887\n",
      "Precision score of Naive Bayes:  0.6983724071875957\n",
      "Recall score of Naive Bayes:  0.503954802259887\n",
      "F1 score of Naive Bayes: 0.5603355688590664\n",
      "\n"
     ]
    },
    {
     "name": "stderr",
     "output_type": "stream",
     "text": [
      "C:\\Users\\Tim\\anaconda3\\lib\\site-packages\\sklearn\\linear_model\\_logistic.py:940: ConvergenceWarning: lbfgs failed to converge (status=1):\n",
      "STOP: TOTAL NO. of ITERATIONS REACHED LIMIT.\n",
      "\n",
      "Increase the number of iterations (max_iter) or scale the data as shown in:\n",
      "    https://scikit-learn.org/stable/modules/preprocessing.html\n",
      "Please also refer to the documentation for alternative solver options:\n",
      "    https://scikit-learn.org/stable/modules/linear_model.html#logistic-regression\n",
      "  extra_warning_msg=_LOGISTIC_SOLVER_CONVERGENCE_MSG)\n",
      "C:\\Users\\Tim\\anaconda3\\lib\\site-packages\\sklearn\\metrics\\_classification.py:1272: UndefinedMetricWarning: Precision is ill-defined and being set to 0.0 in labels with no predicted samples. Use `zero_division` parameter to control this behavior.\n",
      "  _warn_prf(average, modifier, msg_start, len(result))\n"
     ]
    },
    {
     "name": "stdout",
     "output_type": "stream",
     "text": [
      "Accuracy score of Logistic Regression:  0.7254237288135593\n",
      "Precision score of Logistic Regression:  0.732749728195315\n",
      "Recall score of Logistic Regression:  0.7254237288135593\n",
      "F1 score of Logistic Regression: 0.7156738608919194\n",
      "\n",
      "Accuracy score of SVM:  0.7389830508474576\n",
      "Precision score of SVM:  0.7480771593608314\n",
      "Recall score of SVM:  0.7389830508474576\n",
      "F1 score of SVM: 0.7328729058053067\n",
      "\n"
     ]
    }
   ],
   "source": [
    "naive_bayes = GaussianNB()\n",
    "naive_bayes.fit( X_train_cv.toarray(), y_train )\n",
    "predictions = naive_bayes.predict( X_test_cv.toarray() )\n",
    "print( 'Accuracy score of Naive Bayes: ', accuracy_score( y_test, predictions ) )\n",
    "print( 'Precision score of Naive Bayes: ', precision_score( y_test, predictions, average = 'weighted' ) )\n",
    "print( 'Recall score of Naive Bayes: ', recall_score( y_test, predictions, average = 'weighted' ) )\n",
    "print( 'F1 score of Naive Bayes:', f1_score( y_test, predictions, average = 'weighted' ) )\n",
    "print()\n",
    "\n",
    "lr = LogisticRegression()\n",
    "lr.fit( X_train_cv, y_train )\n",
    "predictions = lr.predict( X_test_cv )\n",
    "print( 'Accuracy score of Logistic Regression: ', accuracy_score( y_test, predictions ) )\n",
    "print( 'Precision score of Logistic Regression: ', precision_score( y_test, predictions, average = 'weighted' ) )\n",
    "print( 'Recall score of Logistic Regression: ', recall_score( y_test, predictions, average = 'weighted' ) )\n",
    "print( 'F1 score of Logistic Regression:', f1_score( y_test, predictions, average = 'weighted' ) )\n",
    "print()\n",
    "\n",
    "svm = SVC( kernel = 'linear', C = 1, probability = True )\n",
    "svm.fit( X_train_cv, y_train )\n",
    "predictions = svm.predict( X_test_cv )\n",
    "print( 'Accuracy score of SVM: ', accuracy_score( y_test, predictions ) )\n",
    "print( 'Precision score of SVM: ', precision_score( y_test, predictions, average = 'weighted' ) )\n",
    "print( 'Recall score of SVM: ', recall_score( y_test, predictions, average = 'weighted' ) )\n",
    "print( 'F1 score of SVM:', f1_score( y_test, predictions, average = 'weighted' ) )\n",
    "print()"
   ]
  },
  {
   "cell_type": "code",
   "execution_count": 17,
   "metadata": {},
   "outputs": [
    {
     "data": {
      "image/png": "[encoded data removed]",
      "text/plain": [
       "<Figure size 432x288 with 2 Axes>"
      ]
     },
     "metadata": {
      "needs_background": "light"
     },
     "output_type": "display_data"
    },
    {
     "data": {
      "image/png": "[encoded data removed]",
      "text/plain": [
       "<Figure size 432x288 with 2 Axes>"
      ]
     },
     "metadata": {
      "needs_background": "light"
     },
     "output_type": "display_data"
    }
   ],
   "source": [
    "# labels = list( set( y_test ) )\n",
    "# print( labels )\n",
    "# confusionMatrix = confusion_matrix( y_test, predictions, labels )\n",
    "# print( confusionMatrix )\n",
    "plot_confusion_matrix( svm, X_test_cv, y_test, normalize = 'true', values_format = '.2g', cmap = 'cividis' )\n",
    "# plt.savefig( 'confusionMatrixCategoryNormalized.pdf' )\n",
    "plot_confusion_matrix( svm, X_test_cv, y_test, normalize = None, values_format = 'd', cmap = 'cividis' )\n",
    "# plt.savefig( 'confusionMatrixCategory.pdf' )\n",
    "plt.tight_layout()\n",
    "plt.show()"
   ]
  },
  {
   "cell_type": "code",
   "execution_count": 18,
   "metadata": {
    "scrolled": true
   },
   "outputs": [
    {
     "name": "stdout",
     "output_type": "stream",
     "text": [
      "TYPE...\n",
      "TYPE...\n",
      "Accuracy score of Naive Bayes:  0.4632768361581921\n",
      "Precision score of Naive Bayes:  0.6423329631530857\n",
      "Recall score of Naive Bayes:  0.4632768361581921\n",
      "F1 score of Naive Bayes: 0.48675659900070256\n",
      "\n"
     ]
    },
    {
     "name": "stderr",
     "output_type": "stream",
     "text": [
      "C:\\Users\\Tim\\anaconda3\\lib\\site-packages\\sklearn\\metrics\\_classification.py:1272: UndefinedMetricWarning: Recall is ill-defined and being set to 0.0 in labels with no true samples. Use `zero_division` parameter to control this behavior.\n",
      "  _warn_prf(average, modifier, msg_start, len(result))\n",
      "C:\\Users\\Tim\\anaconda3\\lib\\site-packages\\sklearn\\linear_model\\_logistic.py:940: ConvergenceWarning: lbfgs failed to converge (status=1):\n",
      "STOP: TOTAL NO. of ITERATIONS REACHED LIMIT.\n",
      "\n",
      "Increase the number of iterations (max_iter) or scale the data as shown in:\n",
      "    https://scikit-learn.org/stable/modules/preprocessing.html\n",
      "Please also refer to the documentation for alternative solver options:\n",
      "    https://scikit-learn.org/stable/modules/linear_model.html#logistic-regression\n",
      "  extra_warning_msg=_LOGISTIC_SOLVER_CONVERGENCE_MSG)\n"
     ]
    },
    {
     "name": "stdout",
     "output_type": "stream",
     "text": [
      "Accuracy score of Logistic Regression:  0.7649717514124293\n",
      "Precision score of Logistic Regression:  0.7660742062312089\n",
      "Recall score of Logistic Regression:  0.7649717514124293\n",
      "F1 score of Logistic Regression: 0.7633549054312455\n",
      "\n",
      "Accuracy score of SVM:  0.7762711864406779\n",
      "Precision score of SVM:  0.7771867009858427\n",
      "Recall score of SVM:  0.7762711864406779\n",
      "F1 score of SVM: 0.7753764926020492\n",
      "\n"
     ]
    },
    {
     "data": {
      "image/png": "[encoded data removed]",
      "text/plain": [
       "<Figure size 432x288 with 2 Axes>"
      ]
     },
     "metadata": {
      "needs_background": "light"
     },
     "output_type": "display_data"
    },
    {
     "name": "stdout",
     "output_type": "stream",
     "text": [
      "Labels distribution in whole data set: Counter({'S': 1710, 'A': 1153, 'Q': 672, 'AQ': 2, 'QA': 1})\n",
      "Labels distribution in Train data: Counter({'S': 1282, 'A': 845, 'Q': 523, 'AQ': 2, 'QA': 1})\n",
      "Labels distribution in Test data: Counter({'S': 428, 'A': 308, 'Q': 149})\n"
     ]
    }
   ],
   "source": [
    "# Recognise type\n",
    "\n",
    "cv = FeatureUnion([\n",
    "    ('tfidf', TfidfVectorizer(tokenizer = lambda x : x, preprocessor = lambda x : x, analyzer = 'word', sublinear_tf=True, max_df=0.5)),\n",
    "    ('feat', MeasureFeatures('type'))\n",
    "                  ])\n",
    "\n",
    "X_train_cv = cv.fit_transform( lemmasTrain )\n",
    "X_test_cv = cv.transform( lemmasTest )\n",
    "\n",
    "\n",
    "y_train = [ data[ 'Type'][ i ] for i in X_trainO.index ]\n",
    "y_test = [ data[ 'Type'][ i ] for i in X_testO.index ]\n",
    "\n",
    "\n",
    "naive_bayes = GaussianNB()\n",
    "naive_bayes.fit( X_train_cv.toarray(), y_train )\n",
    "predictions = naive_bayes.predict( X_test_cv.toarray() )\n",
    "print( 'Accuracy score of Naive Bayes: ', accuracy_score( y_test, predictions ) )\n",
    "print( 'Precision score of Naive Bayes: ', precision_score( y_test, predictions, average = 'weighted' ) )\n",
    "print( 'Recall score of Naive Bayes: ', recall_score( y_test, predictions, average = 'weighted' ) )\n",
    "print( 'F1 score of Naive Bayes:', f1_score( y_test, predictions, average = 'weighted' ) )\n",
    "print()\n",
    "\n",
    "lr = LogisticRegression()\n",
    "lr.fit( X_train_cv, y_train )\n",
    "predictions = lr.predict( X_test_cv )\n",
    "print( 'Accuracy score of Logistic Regression: ', accuracy_score( y_test, predictions ) )\n",
    "print( 'Precision score of Logistic Regression: ', precision_score( y_test, predictions, average = 'weighted' ) )\n",
    "print( 'Recall score of Logistic Regression: ', recall_score( y_test, predictions, average = 'weighted' ) )\n",
    "print( 'F1 score of Logistic Regression:', f1_score( y_test, predictions, average = 'weighted' ) )\n",
    "print()\n",
    "\n",
    "\n",
    "svm = SVC( kernel = 'linear', C = 1, probability = True )\n",
    "svm.fit( X_train_cv, y_train )\n",
    "predictions = svm.predict( X_test_cv )\n",
    "\n",
    "print( 'Accuracy score of SVM: ', accuracy_score( y_test, predictions ) )\n",
    "print( 'Precision score of SVM: ', precision_score( y_test, predictions, average = 'weighted' ) )\n",
    "print( 'Recall score of SVM: ', recall_score( y_test, predictions, average = 'weighted' ) )\n",
    "print( 'F1 score of SVM:', f1_score( y_test, predictions, average = 'weighted' ) )\n",
    "print()\n",
    "\n",
    "plot_confusion_matrix( svm, X_test_cv, y_test, normalize = None, values_format = 'd', cmap = 'cividis', display_labels = [ 'A', 'Q', 'S' ] )\n",
    "plt.show()\n",
    "\n",
    "cAll = Counter( [ label for label in data[ 'Type' ] ] )\n",
    "cTrain = Counter( y_train )\n",
    "cTest = Counter( y_test )\n",
    "print( 'Labels distribution in whole data set: {0}'.format( cAll ) )\n",
    "print( 'Labels distribution in Train data: {0}'.format( cTrain ) )\n",
    "print( 'Labels distribution in Test data: {0}'.format( cTest ) )"
   ]
  },
  {
   "cell_type": "code",
   "execution_count": 19,
   "metadata": {},
   "outputs": [
    {
     "name": "stderr",
     "output_type": "stream",
     "text": [
      "C:\\Users\\Tim\\anaconda3\\lib\\site-packages\\sklearn\\model_selection\\_split.py:667: UserWarning: The least populated class in y has only 1 members, which is less than n_splits=5.\n",
      "  % (min_groups, self.n_splits)), UserWarning)\n"
     ]
    },
    {
     "name": "stdout",
     "output_type": "stream",
     "text": [
      "[('CO', 1108), ('DA', 831), ('O', 282)]\n",
      "Majority classifier accuracy 0.3131712832108536 into \"CO\" category\n",
      "Average accuracy for category model 0.538365917236885\n",
      "Average F1 score for category model 0.4931270798740553\n",
      "\n"
     ]
    }
   ],
   "source": [
    "lemmasIMap = parseLemmas( DATA_DIR + 'IMap.output' ) #lemmatize( data[ 'Message' ], 'IMap' )\n",
    "index = int( len( lemmasIMap ) * 0.7 )\n",
    "X_train, y_train = lemmasIMap[ 0 : index ], data[ 'Category' ][ 0 : index ]\n",
    "X_test, y_test = lemmasIMap[ index : ], data[ 'Category' ][ index : ]\n",
    "\n",
    "\n",
    "cv = CountVectorizer( tokenizer = lambda x : x, preprocessor = lambda x : x, analyzer = 'word', ngram_range = ( 1, 3 ) )\n",
    "X_train_cv = cv.fit_transform( X_train )\n",
    "X_test_cv = cv.transform( X_test )\n",
    "\n",
    "# Cross validation\n",
    "modelRelevant = SVC( kernel = 'linear', C = 1, probability = True )\n",
    "modelRelevant.fit( X_train_cv, data[ 'Category' ][ 0 : index ] )\n",
    "clf = Pipeline( [ ( 'vect', cv ), ( 'svm', modelRelevant ) ] )\n",
    "scores = cross_validate( clf, X_train, data[ 'Category' ][ 0 : index ], cv = 5, scoring = [ 'accuracy', 'f1_weighted' ] )\n",
    "# print( 'Accuracy scores for Relevant model', scores[ 'test_accuracy' ] )\n",
    "# print( 'F1 scores for Relevant model', scores[ 'test_f1_weighted' ] )\n",
    "\n",
    "counter = Counter( [ c for c in data[ 'Category' ] ] )\n",
    "mostCommon = counter.most_common( 3 )\n",
    "print( mostCommon )\n",
    "firstL, firstF = mostCommon[ 0 ]\n",
    "print( 'Majority classifier accuracy {0} into \"{1}\" category'.format( firstF / sum( counter.values() ), firstL ) )\n",
    "print( 'Average accuracy for category model', mean( scores[ 'test_accuracy' ] ) )\n",
    "print( 'Average F1 score for category model', mean( scores[ 'test_f1_weighted' ] ) )\n",
    "print()\n"
   ]
  },
  {
   "cell_type": "code",
   "execution_count": 20,
   "metadata": {},
   "outputs": [
    {
     "name": "stdout",
     "output_type": "stream",
     "text": [
      "Average accuracy for relevant model 0.8275423590746172\n",
      "Average F1 score for relevant model 0.8206941695537421\n",
      "\n",
      "Average accuracy for Category model 0.6550847181492343\n",
      "Average F1 score for Category model 0.6221704513907523\n",
      "\n",
      "Average number of non relavant chats before teacher intervened: 4.846153846153846\n",
      "Average number of chats between relevant conversations: 2.588405797101449\n",
      "Corrected average of chats between relevant conversations 4.050228310502283\n",
      "\n",
      "The teacher must intervene\n",
      "The teacher must intervene\n"
     ]
    }
   ],
   "source": [
    "lemmasIMap = parseLemmas( DATA_DIR + 'IMap.output' ) #lemmatize( data[ 'Message' ], 'IMap' )\n",
    "index = int( len( lemmasIMap ) * 0.7 )\n",
    "X_train, y_train = lemmasIMap[ 0 : index ], data[ 'Book relevance' ][ 0 : index ]\n",
    "X_test, y_test = lemmasIMap[ index : ], data[ 'Book relevance' ][ index : ]\n",
    "\n",
    "# print( len( [ x for x in y_test if x == 'Yes' ] ) )\n",
    "# print( len( [ x for x in y_test if x == 'No' ] ) )\n",
    "# print()\n",
    "# print( len( [ x for x in y_train if x == 'Yes' ] ) )\n",
    "# print( len( [ x for x in y_train if x == 'No' ] ) )\n",
    "\n",
    "\n",
    "cv = CountVectorizer( tokenizer = lambda x : x, preprocessor = lambda x : x, analyzer = 'word', ngram_range = ( 1, 3 ) )\n",
    "\n",
    "X_train_cv = cv.fit_transform( X_train )\n",
    "X_test_cv = cv.transform( X_test )\n",
    "\n",
    "# modelRelevant = LogisticRegression()\n",
    "modelRelevant = SVC( kernel = 'linear', C = 1, probability = True )\n",
    "modelRelevant.fit( X_train_cv, data[ 'Book relevance' ][ 0 : index ] )\n",
    "\n",
    "# Cross validation\n",
    "clf = Pipeline( [ ( 'vect', cv ), ( 'svm', modelRelevant ) ] )\n",
    "scores = cross_validate( clf, X_train, data[ 'Book relevance' ][ 0 : index ], cv = 5, scoring = [ 'accuracy', 'f1_weighted' ] )\n",
    "# print( 'Accuracy scores for Relevant model', scores[ 'test_accuracy' ] )\n",
    "# print( 'F1 scores for Relevant model', scores[ 'test_f1_weighted' ] )\n",
    "print( 'Average accuracy for relevant model', mean( scores[ 'test_accuracy' ] ) )\n",
    "print( 'Average F1 score for relevant model', mean( scores[ 'test_f1_weighted' ] ) )\n",
    "print()\n",
    "\n",
    "modelCategory = LogisticRegression()\n",
    "# modelCategory = SVC( kernel = 'linear', C = 1, probability = True )\n",
    "modelCategory.fit( X_train_cv, data[ 'CategoryBroad' ][ 0 : index ] )\n",
    "\n",
    "# Cross validation\n",
    "clf = Pipeline( [ ( 'vect', cv ), ( 'svm', modelCategory ) ] )\n",
    "scores = cross_validate( clf, X_train, data[ 'CategoryBroad' ][ 0 : index ], cv = 5, scoring = [ 'accuracy', 'f1_weighted' ] )\n",
    "# print( 'Accuracy scores for Category model', scores[ 'test_accuracy' ] )\n",
    "# print( 'F1 scores for Category model', scores[ 'test_f1_weighted' ] )\n",
    "print( 'Average accuracy for Category model', mean( scores[ 'test_accuracy' ] ) )\n",
    "print( 'Average F1 score for Category model', mean( scores[ 'test_f1_weighted' ] ) )\n",
    "print()\n",
    "\n",
    "msgBeforeM = []\n",
    "i = 0\n",
    "for c in data[ 'CategoryBroad' ][ 0 : index ]:\n",
    "    if c == 'M':\n",
    "        msgBeforeM.append( i )\n",
    "        i = 0\n",
    "    elif c == 'D':\n",
    "        i = 0\n",
    "    else:\n",
    "        i += 1\n",
    "        \n",
    "msgBeforeM = list(filter( lambda a : a != 0, msgBeforeM ) )\n",
    "        \n",
    "# print( msgBeforeM )\n",
    "avgBeforeM = sum( msgBeforeM ) / len( msgBeforeM )\n",
    "print( 'Average number of non relavant chats before teacher intervened:', avgBeforeM )\n",
    "\n",
    "nonRelevantMsgs = []\n",
    "i = 0\n",
    "for c in data[ 'CategoryBroad' ][ 0 : index ]:\n",
    "    if c != 'D':\n",
    "        i += 1\n",
    "    else:\n",
    "        nonRelevantMsgs.append( i )\n",
    "        i = 0\n",
    "        \n",
    "# print( nonRelevantMsgs )\n",
    "print( 'Average number of chats between relevant conversations:', sum( nonRelevantMsgs ) / len( nonRelevantMsgs ) )\n",
    "\n",
    "fixedRelevance = []\n",
    "i = 0\n",
    "while i < len( nonRelevantMsgs ) - 3:\n",
    "    if not all( [ k == 0 for k in nonRelevantMsgs[ i : i + 3 ] ] ):\n",
    "        fixedRelevance.append( nonRelevantMsgs[ i ] )\n",
    "    else:\n",
    "        i += 2\n",
    "    i += 1\n",
    "        \n",
    "# print( fixedRelevance )\n",
    "correctedRelevance = sum( fixedRelevance ) / len( fixedRelevance )\n",
    "print( 'Corrected average of chats between relevant conversations', correctedRelevance )\n",
    "print()\n",
    "\n",
    "numOfBatches = int( avgBeforeM * 1.5 )\n",
    "batchSize = int( correctedRelevance * 1.5 )\n",
    "# print( batchSize )\n",
    "# print( numOfBatches )\n",
    "relevance = []\n",
    "softRelevance = [ 'D', 'M' ]\n",
    "for i in range( 0, len( X_test ), batchSize ):\n",
    "    batch = X_test[ i : i + batchSize ]\n",
    "    batch_cv = cv.transform( batch )\n",
    "    predictionsRelevant = modelRelevant.predict( batch_cv )\n",
    "    batchYes = 0\n",
    "    batchNo = 0\n",
    "    for j in range( 0, len( predictionsRelevant ) ):\n",
    "        if predictionsRelevant[ j ] == 'Yes':\n",
    "#             relevance.append( 'Yes' )\n",
    "                batchYes += 1\n",
    "        else:\n",
    "            category = modelCategory.predict( batch_cv[ j ] )\n",
    "#             relevance.append( 'Yes' if category == 'D' or category == 'S' or category == 'M' else 'No' )\n",
    "            if category in softRelevance:\n",
    "                batchYes += 1\n",
    "            else:\n",
    "                batchNo += 1\n",
    "    relevance.append( 'Yes' if batchYes >= batchNo else 'No' )\n",
    "for i in range( 0, len( relevance ), numOfBatches ):\n",
    "    batch = relevance[ i : i + numOfBatches ]\n",
    "    if all( [ x == 'No' for x in batch ] ):\n",
    "        print( 'The teacher must intervene' )"
   ]
  },
  {
   "cell_type": "code",
   "execution_count": 21,
   "metadata": {},
   "outputs": [],
   "source": [
    "# import os\n",
    "# os.environ[\"CUDA_DEVICE_ORDER\"] = \"PCI_BUS_ID\"   # see issue #152\n",
    "# os.environ[\"CUDA_VISIBLE_DEVICES\"] = \"\"\n",
    "\n",
    "# from IPython.display import SVG\n",
    "\n",
    "# from keras.utils.vis_utils import model_to_dot\n",
    "# from keras.preprocessing import sequence\n",
    "# from keras.layers.embeddings import Embedding\n",
    "# from keras.layers.recurrent import LSTM, GRU, SimpleRNN\n",
    "# from keras.models import Sequential\n",
    "# from keras.layers import Dense, Dropout, Activation, Flatten\n",
    "\n",
    "# max_features = 20000\n",
    "# maxlen = 100  # cut texts after this number of words (among top max_features most common words)\n",
    "# batch_size = 32\n",
    "\n",
    "# X_train, y_train, X_test, y_test = X_trainO, y_trainO, X_testO, y_testO\n",
    "\n",
    "\n",
    "# cv = CountVectorizer( tokenizer = lambda x : x, preprocessor = lambda x : x, analyzer = 'word', ngram_range = ( 1, 1 ),\n",
    "#                     max_features = maxlen )\n",
    "# # cv = CountVectorizer( analyzer = 'word', ngram_range = ( 1, 1 ) )\n",
    "\n",
    "# X_train_cv = cv.fit_transform( lemmasTrain )\n",
    "# X_test_cv = cv.transform( lemmasTest )\n",
    "\n",
    "# # X_train = np.array( [ value for value in X_trainO ], dtype = str )\n",
    "# # y_train = np.array( [ value for value in y_trainO ], dtype = str )\n",
    "\n",
    "# # X_test = np.array( [ value for value in X_testO ], dtype = str )\n",
    "# # y_test = np.array( [ value for value in y_testO ], dtype = str )\n",
    "\n",
    "# # X_train_cv = cv.fit_transform( X_train )\n",
    "# # X_test_cv = cv.transform( X_test )\n",
    "\n",
    "# print( X_train_cv.shape )\n",
    "# print( y_train.shape )\n",
    "# print( X_test_cv.shape )\n",
    "# print( y_test.shape )\n",
    "# print()\n",
    "# index = 10\n",
    "# print( lemmasTrain[ index ] )\n",
    "# print( len( X_train_cv.toarray()[ index ] ) )\n",
    "\n",
    "# # X_train = sequence.pad_sequences(X_train, maxlen=maxlen)\n",
    "# # X_test = sequence.pad_sequences(X_test, maxlen=maxlen)"
   ]
  },
  {
   "cell_type": "code",
   "execution_count": 22,
   "metadata": {},
   "outputs": [],
   "source": [
    "# model = Sequential()\n",
    "# model.add( Embedding( maxlen, 128, input_length = X_test_cv.shape[ 1 ] ) )\n",
    "\n",
    "# # TODO: try changing\n",
    "# model.add( SimpleRNN( 128 ) )\n",
    "# #model.add(GRU(128))  \n",
    "# #model.add(LSTM(128))  \n",
    "\n",
    "# model.add( Dropout( 0.5 ) )\n",
    "# model.add( Dense( 1 ) )\n",
    "# model.add( Activation( 'sigmoid' ) )\n",
    "\n",
    "# # try using different optimizers and different optimizer configs\n",
    "# model.compile( loss = 'binary_crossentropy', optimizer = 'adam', metrics = [ 'accuracy' ] )\n",
    "# model.summary()"
   ]
  },
  {
   "cell_type": "code",
   "execution_count": 23,
   "metadata": {},
   "outputs": [],
   "source": [
    "# print( X_train_cv.shape )\n",
    "# print( y_train.shape )\n",
    "# le = LabelEncoder()\n",
    "# le.fit( [ 'Yes', 'No' ] )\n",
    "# y_train_le = le.transform( y_train )\n",
    "# y_test_le = le.transform( y_test )\n",
    "# # model.fit( X_train_cv, y_train_le, batch_size = batch_size, epochs = 4, validation_data = ( X_test_cv, y_test_le ) )\n",
    "# history = model.fit( X_train_cv, y_train_le, validation_split=0.1, batch_size = batch_size, epochs = 4 )\n",
    "# # score, acc = model.evaluate( X_test, y_test, batch_size = batch_size )\n",
    "# # print( 'Test accuracy:', acc )\n"
   ]
  },
  {
   "cell_type": "code",
   "execution_count": 24,
   "metadata": {},
   "outputs": [],
   "source": [
    "# score, acc = model.evaluate( X_test_cv, y_test_le, batch_size = batch_size )\n",
    "# print( 'Test accuracy:', acc )"
   ]
  }
 ],
 "metadata": {
  "kernelspec": {
   "display_name": "Python 3",
   "language": "python",
   "name": "python3"
  },
  "language_info": {
   "codemirror_mode": {
    "name": "ipython",
    "version": 3
   },
   "file_extension": ".py",
   "mimetype": "text/x-python",
   "name": "python",
   "nbconvert_exporter": "python",
   "pygments_lexer": "ipython3",
   "version": "3.7.6"
  }
 },
 "nbformat": 4,
 "nbformat_minor": 2
}
